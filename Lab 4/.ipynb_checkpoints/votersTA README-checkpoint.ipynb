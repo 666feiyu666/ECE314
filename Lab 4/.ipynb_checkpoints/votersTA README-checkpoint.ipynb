{
 "cells": [
  {
   "cell_type": "markdown",
   "metadata": {},
   "source": [
    "# voters.pkl generator; do NOT distribute"
   ]
  },
  {
   "cell_type": "markdown",
   "metadata": {},
   "source": [
    "The code in the second cell below generates the voters.pkl file that\n",
    "students should use for the problem on confidence intervals (currently at the end of lab 4).   We don't want to include this code/notbook in the .tar file for the students because in a given semester the students should all be working off the same binary vector of votes."
   ]
  },
  {
   "cell_type": "code",
   "execution_count": 1,
   "metadata": {},
   "outputs": [
    {
     "name": "stdout",
     "output_type": "stream",
     "text": [
      "Modules Imported!\n"
     ]
    }
   ],
   "source": [
    "%matplotlib inline\n",
    "import matplotlib.pyplot as plt\n",
    "import matplotlib.image as img\n",
    "import numpy as np\n",
    "import scipy as sp\n",
    "import scipy.stats as st\n",
    "import pickle as pkl\n",
    "print (\"Modules Imported!\")"
   ]
  },
  {
   "cell_type": "code",
   "execution_count": 2,
   "metadata": {},
   "outputs": [
    {
     "name": "stdout",
     "output_type": "stream",
     "text": [
      "File Saved\n"
     ]
    }
   ],
   "source": [
    "########Constructive Code (USED BY COURSE STAFF) ##############\n",
    "X = st.bernoulli(.53)   # The number can be changed each semester.\n",
    "s = 100000\n",
    "x = X.rvs(size=s)\n",
    "filepath = 'voters.pkl'\n",
    "f = open(filepath, 'wb')\n",
    "pkl.dump(x,f)\n",
    "f.close()\n",
    "print ('File Saved')\n",
    "######## DO NOT DISTRIBUTE TO STUDENTS ##############"
   ]
  },
  {
   "cell_type": "markdown",
   "metadata": {},
   "source": [
    "The following cell should be included in the student lab so they know how to load the vote vector."
   ]
  },
  {
   "cell_type": "code",
   "execution_count": 3,
   "metadata": {},
   "outputs": [],
   "source": [
    "########Student Answer #############\n",
    "filepath = 'voters.pkl'  # Load data\n",
    "f = open(filepath, 'rb')\n",
    "x = pkl.load(f)  # Loads 0-1 vector of ground truth votes\n",
    "f.close()\n"
   ]
  }
 ],
 "metadata": {
  "anaconda-cloud": {},
  "kernelspec": {
   "display_name": "Python 3",
   "language": "python",
   "name": "python3"
  },
  "language_info": {
   "codemirror_mode": {
    "name": "ipython",
    "version": 3
   },
   "file_extension": ".py",
   "mimetype": "text/x-python",
   "name": "python",
   "nbconvert_exporter": "python",
   "pygments_lexer": "ipython3",
   "version": "3.8.5"
  }
 },
 "nbformat": 4,
 "nbformat_minor": 1
}
