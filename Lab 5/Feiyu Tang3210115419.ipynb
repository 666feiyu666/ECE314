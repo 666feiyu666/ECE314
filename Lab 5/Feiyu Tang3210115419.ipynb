{
 "cells": [
  {
   "cell_type": "markdown",
   "metadata": {},
   "source": [
    "# Lab 5: Bloom filtering, min hashing, approximation"
   ]
  },
  {
   "cell_type": "markdown",
   "metadata": {},
   "source": [
    "Among the modules necessary for this lab, there are two new ones: hashlib (implements hash functions) and time (can be used to time how long it takes a section of code to run)."
   ]
  },
  {
   "cell_type": "code",
   "execution_count": 38,
   "metadata": {},
   "outputs": [
    {
     "name": "stdout",
     "output_type": "stream",
     "text": [
      "Modules Imported!\n"
     ]
    }
   ],
   "source": [
    "%matplotlib inline\n",
    "import matplotlib.pyplot as plt\n",
    "import numpy as np\n",
    "import scipy as sp\n",
    "import csv as csv\n",
    "import pickle as pkl\n",
    "import hashlib as hl\n",
    "import time as tm\n",
    "import string as sn\n",
    "import scipy.stats as st\n",
    "print (\"Modules Imported!\")"
   ]
  },
  {
   "cell_type": "markdown",
   "metadata": {},
   "source": [
    "## Bloom Filtering:"
   ]
  },
  {
   "cell_type": "markdown",
   "metadata": {},
   "source": [
    "A Bloom filter is a probabilistic data structure, devised by Burton Howard Bloom (1970),\n",
    "used to determine whether an element is in a set. Imagine you're part of a team designing an antivirus software package. Your task is to alert the user when she is about to enter a known and potentially malicious website. What is a quick and efficent way for you to notify the user? A simple method to achieve your task would be to create a list of all the known and potentially harmful websites. Each time the user tries to go to a website, you could search to see if that website is in your list. This method becomes prohibitively inefficient when you have a large list of websites. It would take too much memory and too much time to search through the list. An alternative way of achieving the same goal is to use a Bloom filter. A Bloom filter is an array of ones and zeros that is used to determine if an element *may be* in a set or is *definitiely not* in the set.\n",
    "\n",
    "Consider a simple example. First, we can create a Bloom filter of length 50. Before any elements are added to the filter, it is simply an array of zeros."
   ]
  },
  {
   "cell_type": "code",
   "execution_count": 39,
   "metadata": {},
   "outputs": [
    {
     "name": "stdout",
     "output_type": "stream",
     "text": [
      "[0. 0. 0. 0. 0. 0. 0. 0. 0. 0. 0. 0. 0. 0. 0. 0. 0. 0. 0. 0. 0. 0. 0. 0.\n",
      " 0. 0. 0. 0. 0. 0. 0. 0. 0. 0. 0. 0. 0. 0. 0. 0. 0. 0. 0. 0. 0. 0. 0. 0.\n",
      " 0. 0.]\n"
     ]
    }
   ],
   "source": [
    "bf = np.zeros(50)\n",
    "print (bf)"
   ]
  },
  {
   "cell_type": "markdown",
   "metadata": {},
   "source": [
    "Now we want to populate our Bloom filter with websites we know are malicious. To do this, we need to determine how many hash functions we want to use. The elements we're looking for are website names (strings). A hash function is a function that maps those strings to numbers. In our case, we will use those numbers to map the string to one of the indexes of our array.  Moreover, the hash functions are constructed in such a way that it is reasonable to assume the number produced for a string is random and uniformly distributed over the set of values.  For our example, if \"virus.net\" is an input string, we want a hash function to map the string to a number from 0 to 49 with all possibilities having equal probability. Since we're doing a small example, let's just use two hash functions. For each website, each hash function will map the string to a number from 0 to 49. We will set the Bloom filter to one at each of those positions. We can use the hashlib module for our hash functions. We will use the SHA and MD5 functions, though what they do is a little beyond the scope of this course."
   ]
  },
  {
   "cell_type": "code",
   "execution_count": 40,
   "metadata": {},
   "outputs": [
    {
     "name": "stdout",
     "output_type": "stream",
     "text": [
      "[0. 0. 0. 0. 0. 0. 0. 0. 0. 0. 0. 0. 0. 0. 0. 0. 0. 0. 0. 0. 0. 0. 0. 0.\n",
      " 0. 0. 0. 0. 0. 0. 0. 0. 0. 0. 0. 0. 0. 0. 0. 0. 1. 0. 0. 0. 0. 0. 0. 0.\n",
      " 1. 0.]\n"
     ]
    }
   ],
   "source": [
    "bf = np.zeros(50)\n",
    "website = 'virus.net'\n",
    "h1 = int(hl.sha1(website.encode('utf8')).hexdigest(),base=16)%50 #Gets mapping from first hash function\n",
    "h2 = int(hl.md5(website.encode('utf8')).hexdigest(),base=16)%50  #Gets mapping from second hash function\n",
    "bf[h1] = 1. #Sets values in Bloom filter to one at indices from hash functions\n",
    "bf[h2] = 1.\n",
    "print (bf)"
   ]
  },
  {
   "cell_type": "markdown",
   "metadata": {},
   "source": [
    "So each website we put into the Bloom filter results in setting the Bloom filter bits to 1 at the indices determined by the hash functions applied to the website name. Suppose we had a list of five websites. Our array would look a lot fuller. If we wanted to check whether a website was in the list or not, instead of comparing its name to the names of the websites in our list, we could compute the values our hash functions come up with and see if the Bloom filter has ones at those indices. If either of the hash functions comes up with an index that has a zero, then we know the website is definitely not in our list. If both are a one, then the item may be in our list but it's not assured. There can be false positives."
   ]
  },
  {
   "cell_type": "code",
   "execution_count": 41,
   "metadata": {},
   "outputs": [
    {
     "name": "stdout",
     "output_type": "stream",
     "text": [
      "Bloom Filter: [0. 0. 0. 0. 0. 0. 1. 0. 1. 0. 0. 0. 0. 0. 0. 0. 0. 0. 1. 0. 0. 0. 0. 0.\n",
      " 0. 0. 0. 1. 0. 0. 0. 0. 0. 0. 0. 0. 0. 1. 0. 1. 1. 0. 0. 0. 0. 0. 0. 1.\n",
      " 1. 0.]\n",
      "Is phising.org malicious? Possible\n",
      "Is cats.com malicious? Impossible\n",
      "Is virus.net malicious? Possible\n"
     ]
    }
   ],
   "source": [
    "#Updates the Bloom filter with the given website\n",
    "def update(website,bf):\n",
    "    h1 = int(hl.sha1(website.encode('utf8')).hexdigest(),base=16)%50\n",
    "    h2 = int(hl.md5(website.encode('utf8')).hexdigest(),base=16)%50\n",
    "    bf[h1]= 1\n",
    "    bf[h2] = 1\n",
    "    return bf\n",
    "\n",
    "#Returns 'Possible' if it's possible for the website to be in the list\n",
    "def contains(website, bf):\n",
    "    h1 = int(hl.sha1(website.encode('utf8')).hexdigest(),base=16)%50\n",
    "    h2 = int(hl.md5(website.encode('utf8')).hexdigest(),base=16)%50\n",
    "    if bf[h1]!=0 and bf[h2]!=0:\n",
    "        return 'Possible'\n",
    "    else:\n",
    "        return 'Impossible'\n",
    "\n",
    "bf = np.zeros(50)\n",
    "websites = ['virus.net','malware.com','worm.edu','phising.org','cookiemonster.gov']\n",
    "for website in websites:\n",
    "    bf = update(website,bf)\n",
    "print ('Bloom Filter:', bf)\n",
    "print ('Is phising.org malicious?', contains('phising.org',bf))\n",
    "print ('Is cats.com malicious?', contains('cats.com',bf))\n",
    "print ('Is virus.net malicious?',contains('virus.net',bf))"
   ]
  },
  {
   "cell_type": "markdown",
   "metadata": {},
   "source": [
    "At the moment, the number of ones in our Bloom filter is small compared to the number of zeros. What would happen if we tried to use this same setup for a list of 1000 websites? Our Bloom filter would be almost if not completely filled with ones. Every website we went to would likely be a false positive and give us alert. This is an undesireable behavior and should leave you with some questions. How big do we need our Bloom filter to be? How many hash functions should we use? How full should the Bloom filter be when the hashing is done?"
   ]
  },
  {
   "cell_type": "markdown",
   "metadata": {},
   "source": [
    "To understand these questions we need to go into a little bit of theory and here is where the probability comes into play. Let $m$ be the number of bits in the array, $n$ be the number of elements in our list, and $k$ be the number of hash functions we will use. We can determine the probability that we get a false positive. We assume that the hash functions are uniformly distributed, i.e. any array position in the Bloom filter is selected with equal probability.\n",
    "Thus the probability that a given bit is not set to one by a certain hash function is $1-\\frac{1}{m}$. \n",
    "\n",
    "Since we have $k$ hash functions, for one element to be placed in the filter (i.e. one website address)\n",
    "the probability none of the hash functions will set a one at a given index\n",
    "is $(1-\\frac{1}{m})^k$\n",
    "\n",
    "We have $n$ elements to place in the filter, so after everything is put in, the probability that a certain bit is still zero is\n",
    "$(1-\\frac{1}{m})^{kn}$\n",
    "\n",
    "Thus the probability that a certain bit is one is: $P\\{b=1\\}=1-(1-\\frac{1}{m})^{kn}$\n",
    "\n",
    "A false positive would then occur if all the $k$ bits are one (each of the hash functions maps to a one). So the probability of a false positive is $P\\{false \\ \\ positive\\}=\\left[1-(1-\\frac{1}{m})^{kn}\\right]^k.$\n",
    "\n",
    "This assumes independence of the bits being set to one which is only approximately true, but in general is a pretty good approximation to the probability of a false positive. We can also use the concept that the large $n,$  small $p$ limit of the binomial distribution\n",
    "is the Poisson distribution with paramter $np$ to further approximate:\n",
    "$P\\{false \\ \\ positive\\}=[1-(1-\\frac{1}{m})^{kn}]^k \\approx (1-e^{-\\frac{kn}{m}})^k$\n",
    "\n",
    "This should reveal some intuitive notions. The probability of a false positive increases as the number of elements in the list ($n$) increases and decreases as the number of bits in the filter ($m$) increases.\n",
    "\n",
    "Let's say we wanted to minimize the probability of a false positive with respect to $k$ (the number of hash functions we're using). From calculus, we can find an optimal value of $k$ in terms of $m$ and $n$. I skip the derivation here, but you can do it on your own as an exercise. The value of $k$ that minimizes the probability of a false positive is given by $k=\\frac{m}{n}\\ln{2}.$\n",
    "\n",
    "We can also find the required number of bits for the Bloom filter to ensure a given probability of false positives. Let $p$ be the probability of a false positive and assume that we are using the optimal number $k=\\frac{m}{n}\\ln{2}$ of hash functions. We get:\n",
    "\n",
    "$p=(1-e^{-\\frac{kn}{m}})^k=\\left(1-\\exp\\left(-\\frac{m\\ln2}{n}\\frac{n}{m}\\right)\\right)^{\\frac{m\\ln 2}{n}}\n",
    "=\\left(1-e^{-\\ln2} \\right)^{\\frac{m\\ln 2}{n}}=2^{-\\frac{m\\ln 2}{n}},$  or\n",
    "$\\ln{p} = -\\frac{m}{n}(\\ln{2})^2$\n",
    "\n",
    "Equivalently, $m = -\\frac{n\\ln{p}}{(\\ln{2})^2}.$ \n",
    "\n",
    "So if we had a good idea of how many elements were going to be put into the Bloom filter and a desired error on the false positives, we could determine how many bits our Bloom filter would need as well as the optimal number of hash functions needed.\n",
    "(The above is slightly inaccurate becasue it ignores the constraint that $k$ must be integer valued.)"
   ]
  },
  {
   "cell_type": "markdown",
   "metadata": {},
   "source": [
    "<br>**<SPAN style=\"BACKGROUND-COLOR: #C0C0C0\">Problem 1:</SPAN>** Along with this lab should be a csv file called websites.csv. It is a list of approximately 1300 malicious websites found on http://www.malwaredomainlist.com/. Do NOT go to any of these sites. Additionally, there should be another file called queries.pkl. It contains an array of randomly arranged website names. Finally, below is a class called BloomFilter. You can use this class yourself or make another (remember you need to run it if you want to use it). We're going to create a bloom filter for the malicious website list and test the results.\n",
    "<ol>\n",
    "    <li>If we want the false postive error probability to be at most 15%, how many bits do we need in the Bloom filter? How many hash functions? What is the theoretical probability of a false positive using these values? (Recall: A false positive is a negative that appears to be positive.)\n",
    "    <li>Using the given class or your own, create a Bloom filter to represent the website list. Populate your filter with the data from the csv file (This my take a few seconds). How full is your array?\n",
    "    <li> (Use the time() package for the following timing experiments; you may need to search the web to find out how to use the time() package.) Load the array of website names from queries.pkl. (i) Time how long it takes to run through a loop of the queries through the Bloom filter and count how many times you get a potentially malicious site. (ii) Time how long it takes to run through a loop of the queries against the actual data and count how many times you get a malicious site. Which query method took longer? \n",
    "    <li> For the same data as in part 3, how many false positives did you get using the Bloom filter? Does the fraction of negatives that gave false positives line up with the false positive probability calculated in part 1?\n",
    "</ol>"
   ]
  },
  {
   "cell_type": "code",
   "execution_count": 42,
   "metadata": {},
   "outputs": [
    {
     "name": "stdout",
     "output_type": "stream",
     "text": [
      "Class Loaded\n"
     ]
    }
   ],
   "source": [
    "class BloomFilter:\n",
    "    #Constructor initializes the array and relevant values\n",
    "    def __init__(self,n,p):\n",
    "        self.n = n     #Number of elements we anticipate putting into the filter\n",
    "        self.p = p     #False positive probability upper bound we'd like to achieve\n",
    "        self.m = np.ceil(-self.n*np.log(self.p)/np.log(2)**2)  # optimal number of bits m for array\n",
    "                                                               # assuming the optimal k will be used\n",
    "        self.k = np.min([np.floor(self.m/self.n*np.log(2)+0.5),6])  # min of optimal number of hash functions k and 6\n",
    "        self.bf = np.zeros(int(self.m))\n",
    "    \n",
    "    #Updates the array with the given input string\n",
    "    def update(self,website):\n",
    "        h = self.__hashes__(website)\n",
    "        i = 0\n",
    "        while i<self.k:\n",
    "            self.bf[h[i]]=1\n",
    "            i = i+1\n",
    "    \n",
    "    #Returns a tuple of the indexes of the hash functions (can do a max of 6 hash functions)\n",
    "    def __hashes__(self, website):\n",
    "        c = (int)(self.m)\n",
    "        h1 = int(hl.md5(website.encode('utf8')).hexdigest(),base=16)%c\n",
    "        h2 = int(hl.sha1(website.encode('utf8')).hexdigest(),base=16)%c\n",
    "        h3 = int(hl.sha224(website.encode('utf8')).hexdigest(),base=16)%c\n",
    "        h4 = int(hl.sha256(website.encode('utf8')).hexdigest(),base=16)%c\n",
    "        h5 = int(hl.sha384(website.encode('utf8')).hexdigest(),base=16)%c\n",
    "        h6 = int(hl.sha512(website.encode('utf8')).hexdigest(),base=16)%c\n",
    "        return (h1,h2,h3,h4,h5,h6)\n",
    "    \n",
    "    #Returns whether its possible that the list contains the input or not\n",
    "    def contains(self, website):\n",
    "        i = 0\n",
    "        c = 0\n",
    "        h= self.__hashes__(website)\n",
    "        while i <self.k:\n",
    "            c = c + self.bf[h[i]]\n",
    "            i = i+1\n",
    "        if c==self.k:\n",
    "            return 1\n",
    "        else:\n",
    "            return 0\n",
    "\n",
    "print ('Class Loaded')"
   ]
  },
  {
   "cell_type": "markdown",
   "metadata": {},
   "source": [
    "__Answer:__ (Your answer here)"
   ]
  },
  {
   "cell_type": "code",
   "execution_count": 43,
   "metadata": {},
   "outputs": [
    {
     "name": "stdout",
     "output_type": "stream",
     "text": [
      "The number of bits we need is: 5134.0\n",
      "The number of hash functions we need is: 3.0\n"
     ]
    }
   ],
   "source": [
    "#Problem 1\n",
    "bloomfilter = BloomFilter(1300,0.15) \n",
    "print(\"The number of bits we need is:\",bloomfilter.m)\n",
    "print(\"The number of hash functions we need is:\",bloomfilter.k)"
   ]
  },
  {
   "cell_type": "markdown",
   "metadata": {},
   "source": [
    "Using m=5134,n=1300, and k=3 to calculate p=$(1-e^{\\frac{-kn}{m}})^{k}$, we get p=0.15, calculation shown below:"
   ]
  },
  {
   "cell_type": "code",
   "execution_count": 44,
   "metadata": {},
   "outputs": [
    {
     "data": {
      "text/plain": [
       "0.15070970155284252"
      ]
     },
     "execution_count": 44,
     "metadata": {},
     "output_type": "execute_result"
    }
   ],
   "source": [
    "(1-np.e**((-3)*1300/5134))**3"
   ]
  },
  {
   "cell_type": "code",
   "execution_count": 45,
   "metadata": {},
   "outputs": [
    {
     "name": "stdout",
     "output_type": "stream",
     "text": [
      "The 1 of my array occupy about: 0.540903778730035\n"
     ]
    }
   ],
   "source": [
    "#Problem 2\n",
    "\n",
    "#load websites first\n",
    "filepath = 'websites.csv'\n",
    "websites = [] #Creates an empty list to load all websites\n",
    "f = open(filepath) #Opens the file path in the default 'r' mode\n",
    "reader = csv.reader(f)\n",
    "for row in reader:\n",
    "    websites.append(row)\n",
    "f.close()    # data is now a list of lists\n",
    "\n",
    "for website in websites:\n",
    "    bloomfilter.update(website[0])\n",
    "full = np.sum(bloomfilter.bf==1)/len(bloomfilter.bf)\n",
    "print('The 1 of my array occupy about:',full)"
   ]
  },
  {
   "cell_type": "code",
   "execution_count": 46,
   "metadata": {},
   "outputs": [
    {
     "name": "stdout",
     "output_type": "stream",
     "text": [
      "The potential malicious site using Bloom Filter is: 1883\n",
      "the time it takes using Bloom Filter is: 0.09057140350341797\n",
      "The actual number of malicious site is: 1315\n",
      "The time it takes using traverse is: 0.6735324859619141\n"
     ]
    }
   ],
   "source": [
    "#Problem 3\n",
    "\n",
    "#load queries.pkl first\n",
    "filepath = 'queries.pkl'\n",
    "f = open(filepath,'rb')\n",
    "queries = pkl.load(f)\n",
    "f.close()\n",
    "count_bf = 0\n",
    "count_act = 0\n",
    "\n",
    "#bloomfilter method\n",
    "start_time = tm.time()\n",
    "for i in queries:\n",
    "    if bloomfilter.contains(i)==1:\n",
    "        count_bf += 1\n",
    "print('The potential malicious site using Bloom Filter is:',count_bf)\n",
    "end_time = tm.time()\n",
    "run_time = end_time-start_time\n",
    "print('the time it takes using Bloom Filter is:',run_time)\n",
    "\n",
    "#running through method\n",
    "start_time = tm.time()\n",
    "for j in queries:\n",
    "    for m in websites:\n",
    "        if j == m[0]:\n",
    "            count_act +=1\n",
    "            break\n",
    "print('The actual number of malicious site is:',count_act)\n",
    "end_time = tm.time()\n",
    "run_time = end_time-start_time\n",
    "print('The time it takes using traverse is:',run_time)"
   ]
  },
  {
   "cell_type": "markdown",
   "metadata": {},
   "source": [
    "Running through a loop of the queries against the actual data will take longer time."
   ]
  },
  {
   "cell_type": "code",
   "execution_count": 47,
   "metadata": {},
   "outputs": [
    {
     "name": "stdout",
     "output_type": "stream",
     "text": [
      "The total number of false positives are 568\n",
      "The fraction of positives positives is 0.15062317687616017\n"
     ]
    }
   ],
   "source": [
    "#Problem 4\n",
    "print('The total number of false positives are',count_bf-count_act)\n",
    "print('The fraction of positives positives is',(count_bf-count_act)/(len(queries)-count_act ))"
   ]
  },
  {
   "cell_type": "markdown",
   "metadata": {},
   "source": [
    "The fraction is close to 0.15, which was calculated in the problem 1."
   ]
  },
  {
   "cell_type": "markdown",
   "metadata": {},
   "source": [
    "In the above example, I gave a high error percentage because I wanted you to see the potential for false positives. In practical use, we would likely have a much smaller error percentage. In order to alert users to potentially harmful websites, the Google Chrome browser, uses this concept. It first does a quick check of whether the website you're going to is potentially dangerous using a Bloom Filter. It does a full check only if the result of the Bloom filter is positive."
   ]
  },
  {
   "cell_type": "markdown",
   "metadata": {},
   "source": [
    "**<SPAN style=\"BACKGROUND-COLOR: #C0C0C0\">End of Problem 1</SPAN>**"
   ]
  },
  {
   "cell_type": "markdown",
   "metadata": {},
   "source": [
    "## MinHashing:"
   ]
  },
  {
   "cell_type": "markdown",
   "metadata": {},
   "source": [
    "Similarly to how Bloom filtering is used to quickly determine whether an element could be in a set, MinHashing is used to quickly determine how similar two sets are. Suppose you are a history professor and you have assigned your students to write a paper on the Civil War. Could you come up with a way to measure how similiar two papers are to each other and thus potentially detect plagiarism?\n",
    "\n",
    "A description of a solution to this problem using minhash is given in the ECE 313 videos prepared by\n",
    "Prof. Yi Lu: on the ECE 313 website http://courses.engr.illinois.edu/ece313/ under the videos <A href= https://uofi.box.com/s/38vg7ib1m7ze5dx0mw5v>SimdocIntro</A>,  <A href= https://uofi.box.com/s/4fe5sgqfnaxl2tq45gso>Simdoc-Minhash1</A>,\n",
    "and <a href= https://uofi.box.com/s/jn3n4wr45y8m1e5uvwt8>Simdoc-Minhash2</A>. It'd be helpful for you to watch these, although\n",
    "the explanation and implementation is a little different here.\n",
    "\n",
    "Suppose we have two papers and we want a measure of how similiar they are. Our first step involves getting rid of common words like:\n",
    "\n",
    "    and\n",
    "    I\n",
    "    to\n",
    "    for\n",
    "    that\n",
    "    which\n",
    "    ...\n",
    "    \n",
    "These words do not reveal much information because they are so common. The next step involves breaking the documents into *shingles*. A shingle is just a grouping of consecutive words in the order in which they appear in the document. So if we wanted to take all the two-word shingles of \"Jack and Jill went up the hill to fetch a pail of water\" we would first get rid of all the common words and then we would have the groupings:\n",
    "\n",
    "    Jack Jill\n",
    "    Jill went\n",
    "    went up\n",
    "    up hill\n",
    "    hill fetch\n",
    "    fetch pail\n",
    "    pail water\n",
    "\n",
    "Let the second document read \"Up the hill, Jack and Jill went to get a pail of water\". We would want to make a table of all the two-word shingles among both documents and then create a binary array representing each of the documents and whether it contains that shingle. So we would get:\n",
    "  \n",
    "    \n",
    "    Shingles   Document A     Document B\n",
    "    \n",
    "    Jack Jill      1              1\n",
    "    Jill went      1              1\n",
    "    went up        1              0\n",
    "    up hill        1              1\n",
    "    hill fetch     1              0\n",
    "    fetch pail     1              0\n",
    "    pail water     1              1\n",
    "    hill Jack      0              1\n",
    "    went get       0              1\n",
    "    get pail       0              1 \n",
    "\n",
    "\n",
    "Let $A$ denote the set of shingles appearing in Document A and let $B$ denote the set of shingles appearing in Document B.\n",
    "A measure of similarity of $A$ and $B$ is the *Jaccard measure,*  $J(A,B),$  defined as\n",
    "the number of shingles in $A\\cap B$ divided by the number of shingles in $A\\cup B.$  In the example above, there are\n",
    "$10$ shingles in the union of the sets and only $4$ in both, so the Jaccard Measure is $0.4$.\n",
    "\n",
    "This is a good way to compare two documents, but suppose our history class is an online course and has tens of thousands of students in it. We need to compare every paper to every other paper turned in. This would generate an enormous list of shingles among all the papers and very sparse representations of the documents. The storage considerations make this initial method inefficent if we need to compare a large number of items. This is where the MinHash comes in.\n",
    "\n",
    "How could randomization be used?   Suppose we were able to generate a  shingle uniformly at random from $A\\cup B,$\n",
    "and then check to see if it is in $A \\cap B.$  Let $X=1$ if the shingle is in $A \\cap B$\n",
    "and let $X=0$ otherwise.   Then a bit of thought shows that $E[X]=J(A,B).$  That is, $J(A,B)$ is the probability that a shingle\n",
    "selected uniformly at random from $A\\cup B$ lies in $A\\cap B.$   For the example above, there are ten shingles in $A\\cup B,$ so\n",
    "if a shingle is uniformly randomly selected from that set, it would be one of the four shingles in $A\\cap B$ with probability $0.4.$\n",
    "That is, $X$ gives a noisy estimate of $J.$   Appealing to the law of large numbers, if we could repeat this experiment independently\n",
    "$k$ times to generate $X_1, \\ldots , X_k,$ then we could estimate $J(A,B)$ by $\\widehat{J}(A,B)=\\frac{1}{k}\\sum_{i=1}^k X_i.$\n",
    "A slightly different estimator would be to generate a random subset of $A\\cup B,$ with $k$ elements, and estimate\n",
    "$J(A,B)$ by the fraction of the elements of the subset which are in $A\\cap B.$\n",
    "\n",
    "To implement the above idea we need to generate a shingle (or a set of $k$ shingles) from $A \\cup B,$\n",
    "with all possibilities being equally likely.  We'd like to do this without counting how large $A\\cup B$ (or $A\\cap B$) is--the\n",
    "whole point is to avoid that calculation.  Let $h$ represent an ideal random hash function, so that it maps every string to a\n",
    "random number in some large range of numbers, uniformly and indpendently for different strings.  The * min hash * function\n",
    "$h_1$ is defined as follows.  Let $h_1(S)$ for an arbitrary set of strings $S$ denote the item in $S$  with the mininum hash\n",
    "value.  Then $h_1(S)$ is equal to any of the elements of $S$ with equal probability.  So we could use $h_1(A\\cup B)$ as our\n",
    "shingle uniformly randomly selected from $A \\cup B.$   This sounds like a lot of computation, but much of it can be\n",
    "done by working on the two sets separately.   That is, suppose $h_1(A)$ and $h_1(B)$ have already been computed--how could you\n",
    "use them to find $h_1(A\\cup B)?$   That's right, $h_1(A\\cup B)$ is equal to whichever of $h_1(A)$ or $h_1(B)$ has the smaller hash value.  In fact, the shingle from $A\\cup B$ selected randomly this way is in the intersection, $A\\cap B$, if\n",
    "and only if $h_1(A)=h_1(B)$ (Caveat: see \"$\\textbf{Note}$\" below). That is, the random variable $X$  discussed above can be generated by setting it equal to one\n",
    "if the minhash's of $A$ and $B$ are equal, and to zero otherwise (using the same hash function for both sets, of course).\n",
    "We could repeat this experiment $k$ times using $k$ different ideal random hash functions to genenerate $k$ independent Bernoulli\n",
    "samples, all with mean $J(A,B).$\n",
    "\n",
    "Or, instead of using $k$ hash functions, we could use the $k$-minhash function $h_k$ defined as follows.  For any set of strings\n",
    "$S$ with at least $k$ strings,  $h_k(S)$ is the set of $k$ items from $S$ with the smallest hash values (using $h$). \n",
    "Then $h_k(A\\cup B)$ is uniformly\n",
    "distributed over the set of subsets of $A\\cup B$ of size $k,$  so the fraction of its elements in $A\\cap B$ is an unbiased estimator\n",
    "of $J(A,B).$   As for the special case $k=1,$  $h_k(A\\cup B)$ can be calculated from $h_k(A)$ and $h_k(B).$  Specifically,\n",
    "$h_k(A\\cup B) = h_k ( h_k(A)\\cup h_k(B)).$ Moreover, $J(A,B)$ has the unbiased estimator:\n",
    "$$\n",
    "\\widehat{J}(A,B) = \\frac{ |h_k(A\\cup B)\\cap h_k(A)\\cap h_k(B)| }{k}.\n",
    "$$\n",
    "\n",
    "$\\textbf{Note}$: Here we are ignoring the effect of ties of hash values, which is reasonable if $|A\\cup B|$ is small compared to the size of the\n",
    "range space of $h.$  In practice we use a given hash function $h$ from a library to approximate an ideal random hash function.\n",
    "The * signature * of a document $A$ can then be taken to be the set of $k$ smallest hash values for the set of shingles of\n",
    "the document (rather than the $k$ shingles with the smallest hash values)."
   ]
  },
  {
   "cell_type": "markdown",
   "metadata": {},
   "source": [
    "Below is a class that is able to load a text file and create a corresponding signature. The constructor has four arguments (plus the self): filename, n, k, comWords. Filename is the name of the file, n is the number of words you're using in a shingle, k is the number of minimum values you're using when you hash, and comWords is a list of common words you want to exclude. When we hash, we don't want to get into clashes with cases so it may be a good idea to put everything into lower case. Additionally, we want to be able to parse out punctuation if needed."
   ]
  },
  {
   "cell_type": "code",
   "execution_count": 48,
   "metadata": {},
   "outputs": [
    {
     "name": "stdout",
     "output_type": "stream",
     "text": [
      "Class Loaded\n"
     ]
    }
   ],
   "source": [
    "class minHash:\n",
    "    \n",
    "    #Sets class variables and starts generating signature of given file\n",
    "    def __init__(self, filename, n, k, comWords):\n",
    "        self.filename = filename\n",
    "        self.n = n  # Number of words per shingle (equal to two for the introductory example)\n",
    "        self.k = k  # Number of hash values saved in signature -- the smallest k encountered are saved\n",
    "        self.comWords = comWords\n",
    "        self.load()\n",
    "    \n",
    "    #Attempts to load the file from the given filepath\n",
    "    def load(self):\n",
    "        self.signature = self.k*[float('inf')] #Builds a list with k elements equal to infinity\n",
    "        translator = str.maketrans('', '', sn.punctuation)\n",
    "        try:\n",
    "            f = open(self.filename,'r')\n",
    "            shingle = self.n*['']  # Initialize to list of n empty strings\n",
    "            pointer = 0  # Points to location next word will go into the list shingle, it cycles modulo n\n",
    "            full_flag=0  # Indicates whether at least n words have been read yet\n",
    "            \n",
    "            for line in f:\n",
    "                for word in line.split():\n",
    "                    word = word.translate(translator) #Removes punctuation\n",
    "                    word = word.lower() #Makes lower case\n",
    "                    if not (word in self.comWords): \n",
    "                        shingle[pointer] = word\n",
    "                        if pointer==self.n-1: full_flag=1   # First happens just after the nth word is added to shingle\n",
    "                        pointer = (pointer+1)%self.n\n",
    "                        if full_flag==1: self.__updateSig__(shingle, pointer)\n",
    "            f.close()\n",
    "            \n",
    "        except:\n",
    "            print ('Error: Could Not Load File')\n",
    "    \n",
    "    #Determines if the signature should be updated to include the hash value of the new shingle\n",
    "    def __updateSig__(self, shingle, pointer):\n",
    "        conShing = '' #Will become the string obtained by loading in words, beginning at pointer\n",
    "        for i in range(pointer, np.size(shingle)):\n",
    "            conShing = conShing + shingle[i]\n",
    "        for i in range(pointer):\n",
    "            conShing = conShing + shingle[i]\n",
    "        h = int(hl.sha1(conShing.encode('utf8')).hexdigest(),base=16) #Hash function used in signature \n",
    "        \n",
    "        if h<np.max(self.signature) and not (h in self.signature):  #Add new hash value to signature if it is smaller than the largest already there.\n",
    "            i = np.argmax(self.signature) #Makes sure there are no duplicate values in signature\n",
    "            self.signature[i] = h\n",
    "\n",
    "print ('Class Loaded')"
   ]
  },
  {
   "cell_type": "markdown",
   "metadata": {},
   "source": [
    "<br>**<SPAN style=\"BACKGROUND-COLOR: #C0C0C0\">Problem 2:</SPAN>** In the folder with this lab you should see three files \"documentA.txt\",\"documentB.txt\", and \"documentC.txt\".\n",
    "<ol>\n",
    "<li> Use the given class to print the signatures of each of these documents. Use $n=2$, $k=10$ and the following for a list of common words:\n",
    "[I, to, with, the, for, of, be, who, are, is, in, on, an, a, and, as]</li>\n",
    "<li> Create a method to compare two signatures based on the approximation of the Jaccard Measure given above. Note, in the implementation we used float('inf') to represent a part of the signature that hasn't been set yet. You will want to ignore counting these in your calculation of the Jacard Measure. Compare documents A to B, A to C, and B to C. Which documents are the most similar?</li>\n",
    "<li> What happens if you change n or k? Answer this conceptually, but you are free to rerun your code with new values if it will help you understand what's going on.\n",
    "</ol>\n"
   ]
  },
  {
   "cell_type": "markdown",
   "metadata": {},
   "source": [
    "__Answer:__ (Your answer here)"
   ]
  },
  {
   "cell_type": "code",
   "execution_count": 50,
   "metadata": {},
   "outputs": [
    {
     "name": "stdout",
     "output_type": "stream",
     "text": [
      "The signature of documentA.txt is: [72517599598709679515684757540507031386482200214, 88326424926351634660061855825608332587498241847, 49885200947698963759919197530638150333478893932, 194708659076897258129207420504190453173718659113, 27770847264510472629821289886014103423135885833, 29695890292414491828604873220571786917436577213, 193772976519248612224689871104152152366774145927, 5873579517397129943069006658227346687725143740, 177478008242573860971134166066897141245799185730, 156772042927565481067757670371224114015790910679]\n",
      "\n",
      "\n",
      "The signature of documentB.txt is: [208288058508735297696945695698229992862538222562, 211674183999167906856335584708958900410904809888, 177478008242573860971134166066897141245799185730, 77512104597878130300233234003601830111578186035, 35136246408516719074310205275043982799499813006, 69640326593559034007855270292719538432352919040, 27770847264510472629821289886014103423135885833, 89671401453060173926608073216029078957715544568, 75123790123274076423686590149780533040546668209, 88326424926351634660061855825608332587498241847]\n",
      "\n",
      "\n",
      "The signature of documentC.txt is: [74044898381363635052600360175545062942026428479, 54312584499152083919074621730609983875404083013, 29695890292414491828604873220571786917436577213, 172766233686967497543410974441142436009036759757, 114005847255382439705291903055256503002166210712, 43041294936243552434070877509663505862740400892, 57517693613283788271617847177620278282049756657, 146001011780402715964067127066425902618741125299, 234003422770760363437605548884023009307414496984, 175116222431047038151294897577455832002975360213]\n",
      "\n",
      "\n"
     ]
    }
   ],
   "source": [
    "# Your code here\n",
    "# Your code here\n",
    "#Q1\n",
    "n = 2\n",
    "k = 10\n",
    "commonWords = ['I', 'to', 'with', 'the', 'for', 'of', 'be', 'who', 'are', 'is', 'in', 'on', 'an', 'a', 'and', 'as']\n",
    "#documentA.txt\n",
    "minhash1 = minHash('documentA.txt',n,k,commonWords)\n",
    "print('The signature of documentA.txt is:',minhash1.signature)\n",
    "print('\\n')\n",
    "#documentB.txt\n",
    "minhash2 = minHash('documentB.txt',n,k,commonWords)\n",
    "print('The signature of documentB.txt is:',minhash2.signature)\n",
    "print('\\n')\n",
    "#documentC.txt\n",
    "minhash3 = minHash('documentC.txt',n,k,commonWords)\n",
    "print('The signature of documentC.txt is:',minhash3.signature)\n",
    "print('\\n')"
   ]
  },
  {
   "cell_type": "code",
   "execution_count": 52,
   "metadata": {},
   "outputs": [
    {
     "name": "stdout",
     "output_type": "stream",
     "text": [
      "J_AB 0.2\n",
      "J_BC 0.0\n",
      "J_AC 0.1\n"
     ]
    }
   ],
   "source": [
    "#Q2\n",
    "#compare documentA.txt and documentB.txt\n",
    "temp = minhash1.signature+minhash2.signature\n",
    "temp = list(set(temp))\n",
    "temp.sort()\n",
    "hkAUB = temp[:10]\n",
    "hkA = minhash1.signature\n",
    "hkB = minhash2.signature\n",
    "count1 = 0\n",
    "for i in hkAUB:\n",
    "    if i in hkA and i in hkB:\n",
    "        count1+=1\n",
    "print('J_AB',count1/k)\n",
    "#compare documentB.txt and documentC.txt\n",
    "temp = minhash2.signature+minhash3.signature\n",
    "temp = list(set(temp))\n",
    "temp.sort()\n",
    "hkAUB = temp[:10]\n",
    "hkA = minhash2.signature\n",
    "hkB = minhash3.signature\n",
    "count2 = 0\n",
    "for i in hkAUB:\n",
    "    if i in hkA and i in hkB:\n",
    "        count2+=1\n",
    "print('J_BC',count2/k)\n",
    "#compare documentA.txt and documentC.txt\n",
    "temp = minhash1.signature+minhash3.signature\n",
    "temp = list(set(temp))\n",
    "temp.sort()\n",
    "hkAUB = temp[:10]\n",
    "hkA = minhash1.signature\n",
    "hkB = minhash3.signature\n",
    "count3 = 0\n",
    "for i in hkAUB:\n",
    "    if i in hkA and i in hkB:\n",
    "        count3+= 1\n",
    "print('J_AC',count3/k)"
   ]
  },
  {
   "cell_type": "markdown",
   "metadata": {},
   "source": [
    "DocumentA and documentB are the most similar"
   ]
  },
  {
   "cell_type": "markdown",
   "metadata": {},
   "source": [
    "Problem 3<br>\n",
    "If n increases, the jacard measure will increase, because consecutive words may not considered as plagiarism. Someone may change some word in that n words to avoid plagiarism. If k increases, the jacard measure will be more accurate, because it is more similar to check the whole paragraph. But that costs a lot of space and time."
   ]
  },
  {
   "cell_type": "markdown",
   "metadata": {},
   "source": [
    "**<SPAN style=\"BACKGROUND-COLOR: #C0C0C0\">End of Problem 2</SPAN>**"
   ]
  },
  {
   "cell_type": "markdown",
   "metadata": {},
   "source": [
    "## Approximation:"
   ]
  },
  {
   "cell_type": "markdown",
   "metadata": {},
   "source": [
    "### normal approximation to binomial"
   ]
  },
  {
   "cell_type": "markdown",
   "metadata": {},
   "source": [
    "Historically, being able to compute binomial probabilities was one of the most important applications of the central limit theorem. Binomial probabilities with a small value for $n$ (say, 20) were displayed in a table in a book. To calculate the probabilities with large values of $n$, you had to use the binomial formula, which could be very complicated. Using the normal approximation to the binomial distribution simplified the process. To compute the normal approximation to the binomial distribution, take a simple random sample from a population.\n",
    "\n",
    "The binomial distribution with parameters $n$ (number of trials) and $p$ (probability of success in each trial) can be approximated by a normal distribution when $n$ is large enough, and $p$ is not too close to 0 or 1. The mean $\\mu$ and variance $\\sigma^2$ of the approximating normal distribution are $np$ and $np(1−p)$ respectively.\n",
    "\n",
    "<br>**<SPAN style=\"BACKGROUND-COLOR: #C0C0C0\">Problem 3:</SPAN>** Select three different sets of parameters (n, p) for the binomial distribution to explore. One set should have a small $n$ = 10, one with a medium $n$ = 50, and one with a large $n$ = 100. For each $n$, choose $p$ = 0.1. For each (n, p) pair, plot the binomial distribution's PMF and the corresponding normal approximation's PDF on the same graph.\n",
    "<ol>\n",
    "</ol>"
   ]
  },
  {
   "cell_type": "code",
   "execution_count": 53,
   "metadata": {},
   "outputs": [
    {
     "data": {
      "image/png": "[encoded data removed]",
      "text/plain": [
       "<Figure size 640x480 with 1 Axes>"
      ]
     },
     "metadata": {},
     "output_type": "display_data"
    }
   ],
   "source": [
    "# Parameters for the binomial distributions\n",
    "parameters = [(10, 0.1), (50, 0.1), (100, 0.1)]\n",
    "colors = ['r', 'g', 'b']\n",
    "labels = ['n=10', 'n=50', 'n=100']\n",
    "\n",
    "# Plot settings\n",
    "x = np.arange(0, 20)  # Adjust range based on your data\n",
    "fig, ax = plt.subplots()\n",
    "\n",
    "# Plot each binomial distribution and its normal approximation\n",
    "for (n, p), color, label in zip(parameters, colors, labels):\n",
    "    # Binomial distribution PMF\n",
    "    pmf_values = st.binom.pmf(x, n, p)\n",
    "    ax.plot(x, pmf_values, 'o-', color=color, label=f'Binomial ({label})')\n",
    "\n",
    "    # Normal approximation PDF\n",
    "    mean = n * p\n",
    "    variance = n * p * (1 - p)\n",
    "    std_dev = np.sqrt(variance)\n",
    "    norm_values = st.norm.pdf(x, mean, std_dev)\n",
    "    ax.plot(x, norm_values, '--', color=color, label=f'Normal Approx ({label})')\n",
    "\n",
    "# Plot settings and labels\n",
    "ax.set_title('Binomial Distribution vs Normal Approximation')\n",
    "ax.set_xlabel('X')\n",
    "ax.set_ylabel('Probability')\n",
    "ax.legend()\n",
    "plt.show()"
   ]
  },
  {
   "cell_type": "markdown",
   "metadata": {},
   "source": [
    "**<SPAN style=\"BACKGROUND-COLOR: #C0C0C0\">End of Problem 3</SPAN>**"
   ]
  },
  {
   "cell_type": "markdown",
   "metadata": {},
   "source": [
    "The text files you compared were taken from the University of Indiana's pamphlets on plagiarism (http://www.indiana.edu/~wts/pamphlets/plagiarism.pdf). Document A was the original text, document B was an example of plagiarism, and document C was an example of acceptable paraphrasing. You now have a very rudimentary method for checking for plagiarism. If you were the history professor in the example, you would be able to quantify the similarity among papers and more efficiently be able to check across a large number of papers. If you feel like it, use this code on other paraphrased quotes and papers. "
   ]
  },
  {
   "cell_type": "markdown",
   "metadata": {},
   "source": [
    "<div class=\"alert alert-block alert-warning\"> \n",
    "## Academic Integrity Statement ##\n",
    "\n",
    "By submitting the lab with this statement, you declare you have written up the lab entirely by yourself, including both code and markdown cells. You also agree that you should not share your code with anyone else. Any violation of the academic integrity requirement may cause an academic integrity report to be filed that could go into your student record. See <a href=\"https://provost.illinois.edu/policies/policies/academic-integrity/students-quick-reference-guide-to-academic-integrity/\">Students' Quick Reference Guide to Academic Integrity</a> for more information. "
   ]
  }
 ],
 "metadata": {
  "anaconda-cloud": {},
  "kernelspec": {
   "display_name": "Python 3 (ipykernel)",
   "language": "python",
   "name": "python3"
  },
  "language_info": {
   "codemirror_mode": {
    "name": "ipython",
    "version": 3
   },
   "file_extension": ".py",
   "mimetype": "text/x-python",
   "name": "python",
   "nbconvert_exporter": "python",
   "pygments_lexer": "ipython3",
   "version": "3.9.13"
  }
 },
 "nbformat": 4,
 "nbformat_minor": 1
}
